{
 "cells": [
  {
   "cell_type": "code",
   "execution_count": 1,
   "metadata": {},
   "outputs": [],
   "source": [
    "import os\n",
    "import numpy as np"
   ]
  },
  {
   "cell_type": "code",
   "execution_count": 2,
   "metadata": {},
   "outputs": [],
   "source": [
    "import matplotlib.pyplot as plt\n",
    "from sklearn import model_selection\n",
    "from sklearn.naive_bayes import MultinomialNB\n",
    "from sklearn.metrics import classification_report\n",
    "import string"
   ]
  },
  {
   "cell_type": "code",
   "execution_count": 3,
   "metadata": {},
   "outputs": [],
   "source": [
    "X = [] # An array of pair which will store (filename,data)\n",
    "Y = [] # An array storing category corresponding to a filename\n",
    "\n",
    "for category in os.listdir('20_newsgroups'):\n",
    "    for document in os.listdir('20_newsgroups/'+category):\n",
    "        with open('20_newsgroups/'+category+'/'+document, \"r\" ,encoding=\"ISO-8859-1\") as f:\n",
    "            X.append((document,f.read()))\n",
    "            Y.append(category)"
   ]
  },
  {
   "cell_type": "code",
   "execution_count": 4,
   "metadata": {},
   "outputs": [],
   "source": [
    "X_train,X_test,Y_train,Y_test = model_selection.train_test_split(X,Y,test_size = 0.25,random_state = 0)"
   ]
  },
  {
   "cell_type": "code",
   "execution_count": 5,
   "metadata": {},
   "outputs": [],
   "source": [
    "stopwords = ['a', 'about', 'above', 'across', 'after', 'afterwards', 'again', 'against', 'all', 'almost', 'alone',\n",
    "             'along', 'already', 'also', 'although', 'always', 'am', 'among', 'amongst', 'amoungst', 'amount',\n",
    "             'an', 'and', 'another', 'any', 'anyhow', 'anyone', 'anything', 'anyway', 'anywhere', 'are', 'around',\n",
    "             'as', 'at', 'back', 'be', 'became', 'because', 'become', 'becomes', 'becoming', 'been', 'before',\n",
    "             'beforehand', 'behind', 'being', 'below', 'beside', 'besides', 'between', 'beyond', 'bill', 'both',\n",
    "             'bottom', 'but', 'by', 'call', 'can', 'cannot', 'cant', 'co', 'con', 'could', 'couldnt', 'cry', 'de',\n",
    "             'describe', 'detail', 'did', 'do', 'does', 'doing', 'don', 'done', 'down', 'due', 'during', 'each', 'eg',\n",
    "             'eight', 'either', 'eleven', 'else', 'elsewhere', 'empty', 'enough', 'etc', 'even', 'ever', 'every', 'everyone',\n",
    "             'everything', 'everywhere', 'except', 'few', 'fifteen', 'fify', 'fill', 'find', 'fire', 'first', 'five', 'for',\n",
    "             'former', 'formerly', 'forty', 'found', 'four', 'from', 'front', 'full', 'further', 'get', 'give', 'go', 'had',\n",
    "             'has', 'hasnt', 'have', 'having', 'he', 'hence', 'her', 'here', 'hereafter', 'hereby', 'herein', 'hereupon',\n",
    "             'hers', 'herself', 'him', 'himself', 'his', 'how', 'however', 'hundred', 'i', 'ie', 'if', 'in', 'inc', 'indeed',\n",
    "             'interest', 'into', 'is', 'it', 'its', 'itself', 'just', 'keep', 'last', 'latter', 'latterly', 'least', 'less',\n",
    "             'ltd', 'made', 'many', 'may', 'me', 'meanwhile', 'might', 'mill', 'mine', 'more', 'moreover', 'most', 'mostly',\n",
    "             'move', 'much', 'must', 'my', 'myself', 'name', 'namely', 'neither', 'never', 'nevertheless', 'next', 'nine',\n",
    "             'no', 'nobody', 'none', 'noone', 'nor', 'not', 'nothing', 'now', 'nowhere', 'of', 'off', 'often', 'on', 'once',\n",
    "             'one', 'only', 'onto', 'or', 'other', 'others', 'otherwise', 'our', 'ours', 'ourselves', 'out', 'over', 'own',\n",
    "             'part', 'per', 'perhaps', 'please', 'put', 'rather', 're', 's', 'same', 'see', 'seem', 'seemed', 'seeming',\n",
    "             'seems', 'serious', 'several', 'she', 'should', 'show', 'side', 'since', 'sincere', 'six', 'sixty', 'so', \n",
    "             'some', 'somehow', 'someone', 'something', 'sometime', 'sometimes', 'somewhere', 'still', 'such', 'system',\n",
    "             't', 'take', 'ten', 'than', 'that', 'the', 'their', 'theirs', 'them', 'themselves', 'then', 'thence', 'there',\n",
    "             'thereafter', 'thereby', 'therefore', 'therein', 'thereupon', 'these', 'they', 'thickv', 'thin', 'third', 'this',\n",
    "             'those', 'though', 'three', 'through', 'throughout', 'thru', 'thus', 'to', 'together', 'too', 'top', 'toward',\n",
    "             'towards', 'twelve', 'twenty', 'two', 'un', 'under', 'until', 'up', 'upon', 'us', 'very', 'via', 'was', 'we',\n",
    "             'well', 'were', 'what', 'whatever', 'when', 'whence', 'whenever', 'where', 'whereafter', 'whereas', 'whereby',\n",
    "             'wherein', 'whereupon', 'wherever', 'whether', 'which', 'while', 'whither', 'who', 'whoever', 'whole', 'whom',\n",
    "             'whose', 'why', 'will', 'with', 'within', 'without', 'would', 'yet', 'you', 'your', 'yours', 'yourself',\n",
    "             'yourselves']"
   ]
  },
  {
   "cell_type": "code",
   "execution_count": 6,
   "metadata": {},
   "outputs": [],
   "source": [
    "dictionary = {} # to store the count of every word present in our training set.\n",
    "for i in range(len(X_train)):\n",
    "    word_list = []\n",
    "    for word in X_train[i][1].split():\n",
    "        word_new  = word.strip(string.punctuation).lower()\n",
    "        if (len(word_new)>2)  and (word_new not in stopwords):  \n",
    "            if word_new in dictionary:\n",
    "                dictionary[word_new]+=1\n",
    "            else:\n",
    "                dictionary[word_new]=1  "
   ]
  },
  {
   "cell_type": "code",
   "execution_count": 7,
   "metadata": {},
   "outputs": [
    {
     "data": {
      "image/png": "[encoded data removed]",
      "text/plain": [
       "<Figure size 432x288 with 1 Axes>"
      ]
     },
     "metadata": {
      "needs_background": "light"
     },
     "output_type": "display_data"
    }
   ],
   "source": [
    "num_words = [0 for i in range(max(dictionary.values())+1)] \n",
    "freq = [i for i in range(max(dictionary.values())+1)] \n",
    "for key in dictionary:\n",
    "    num_words[dictionary[key]]+=1\n",
    "plt.plot(freq,num_words)\n",
    "plt.axis([1, 100, 0, 20000])\n",
    "plt.xlabel(\"Frequency\")\n",
    "plt.ylabel(\"Words\")\n",
    "plt.show()"
   ]
  },
  {
   "cell_type": "code",
   "execution_count": 8,
   "metadata": {},
   "outputs": [],
   "source": [
    "cutoff_freq = 70 # Not including words whose frequency is less than 70\n",
    "features = []\n",
    "for key in dictionary:\n",
    "    if dictionary[key] >=cutoff_freq:\n",
    "        features.append(key)"
   ]
  },
  {
   "cell_type": "code",
   "execution_count": 9,
   "metadata": {},
   "outputs": [],
   "source": [
    "Xtrain_data = np.zeros((len(X_train),len(features))) #for storing training data as frequencies of words present in dictionary\n",
    "\n",
    "for i in range(len(X_train)):\n",
    "    wordlis = [ word.strip(string.punctuation).lower() for word in X_train[i][1].split()] # Converting a individual file as a list of words\n",
    "    \n",
    "    for word in wordlis:\n",
    "        if word in features: # Checking whether a word is present in features list \n",
    "            Xtrain_data[i][features.index(word)] += 1 # if present then increment the value by 1."
   ]
  },
  {
   "cell_type": "code",
   "execution_count": 10,
   "metadata": {},
   "outputs": [],
   "source": [
    "#Same for test data also.\n",
    "Xtest_data = np.zeros((len(X_test),len(features)))\n",
    "for i in range(len(X_test)):\n",
    "    wordlis = [ word.strip(string.punctuation).lower() for word in X_test[i][1].split()]   \n",
    "    for word in wordlis:\n",
    "        if word in features:\n",
    "            Xtest_data[i][features.index(word)] += 1"
   ]
  },
  {
   "cell_type": "code",
   "execution_count": 11,
   "metadata": {},
   "outputs": [
    {
     "name": "stdout",
     "output_type": "stream",
     "text": [
      "0.9077815563112622\n",
      "0.8666\n",
      "                          precision    recall  f1-score   support\n",
      "\n",
      "             alt.atheism       0.74      0.85      0.79       232\n",
      "           comp.graphics       0.82      0.77      0.80       253\n",
      " comp.os.ms-windows.misc       0.85      0.83      0.84       259\n",
      "comp.sys.ibm.pc.hardware       0.84      0.83      0.84       249\n",
      "   comp.sys.mac.hardware       0.87      0.90      0.88       236\n",
      "          comp.windows.x       0.89      0.91      0.90       281\n",
      "            misc.forsale       0.80      0.89      0.84       253\n",
      "               rec.autos       0.89      0.91      0.90       233\n",
      "         rec.motorcycles       0.94      0.98      0.96       271\n",
      "      rec.sport.baseball       0.98      0.98      0.98       245\n",
      "        rec.sport.hockey       1.00      0.98      0.99       243\n",
      "               sci.crypt       0.95      0.88      0.91       234\n",
      "         sci.electronics       0.80      0.91      0.85       240\n",
      "                 sci.med       0.97      0.91      0.94       257\n",
      "               sci.space       0.94      0.94      0.94       247\n",
      "  soc.religion.christian       0.96      0.99      0.97       236\n",
      "      talk.politics.guns       0.75      0.91      0.82       260\n",
      "   talk.politics.mideast       0.93      0.85      0.89       283\n",
      "      talk.politics.misc       0.70      0.63      0.66       239\n",
      "      talk.religion.misc       0.70      0.48      0.57       249\n",
      "\n",
      "                accuracy                           0.87      5000\n",
      "               macro avg       0.87      0.87      0.86      5000\n",
      "            weighted avg       0.87      0.87      0.86      5000\n",
      "\n"
     ]
    }
   ],
   "source": [
    "model = MultinomialNB()  # Using Sklearn fitting and predicting the value.\n",
    "model.fit(Xtrain_data,Y_train)\n",
    "pred = model.predict(Xtest_data)\n",
    "\n",
    "score_train_sklearn = model.score(Xtrain_data,Y_train)\n",
    "score_test_sklearn = model.score(Xtest_data,Y_test)\n",
    "\n",
    "print(score_train_sklearn)\n",
    "print(score_test_sklearn)\n",
    "\n",
    "print(classification_report(Y_test,pred))"
   ]
  },
  {
   "cell_type": "markdown",
   "metadata": {},
   "source": [
    "# Implementating Multinomial Naive Bayes"
   ]
  },
  {
   "cell_type": "code",
   "execution_count": 12,
   "metadata": {},
   "outputs": [],
   "source": [
    "def probability(res,X,class_):\n",
    "        prob = np.log(res[class_]['total_count_of_a_class']) - np.log(res['total_data'])\n",
    "        total_words = len(X)\n",
    "        for i in range(len(X)):\n",
    "            current_word_prob = X[i]*(np.log(res[class_][i]+1)-np.log(res[class_]['total_word_count']+total_words))\n",
    "            prob += current_word_prob\n",
    "        \n",
    "        return prob"
   ]
  },
  {
   "cell_type": "code",
   "execution_count": 13,
   "metadata": {},
   "outputs": [],
   "source": [
    "def predSingle(res,X):\n",
    "    best_prob = -1000\n",
    "    best_class = -1\n",
    "    firstRun = True\n",
    "    \n",
    "    classes = res.keys()\n",
    "    \n",
    "    for class_ in classes:\n",
    "        if(class_ == 'total_data'):\n",
    "            continue\n",
    "            \n",
    "        prob = probability(res,X,class_)\n",
    "        if(firstRun or prob > best_prob):\n",
    "            best_class = class_\n",
    "            best_prob = prob\n",
    "            firstRun = False\n",
    "        \n",
    "    return best_class"
   ]
  },
  {
   "cell_type": "code",
   "execution_count": 14,
   "metadata": {},
   "outputs": [],
   "source": [
    "def predict(res,X_test):\n",
    "    y_pred = []\n",
    "    i = 0\n",
    "    for x in X_test:\n",
    "        class_ = predSingle(res,x)\n",
    "        y_pred.append(class_)\n",
    "    return y_pred"
   ]
  },
  {
   "cell_type": "code",
   "execution_count": 15,
   "metadata": {},
   "outputs": [],
   "source": [
    "def fit(X_train,Y_train):\n",
    "    res = {}\n",
    "    classes = set(Y_train)\n",
    "    for class_ in classes:\n",
    "        res[class_] = {}\n",
    "        for i in range(len(X_train[0])):\n",
    "            res[class_][i] = 0\n",
    "        res[class_]['total_word_count'] = 0 # It will store total no. of word counts present in a particular class\n",
    "        res[class_]['total_count_of_a_class'] = 0 # It will store total no of document which belong to a particular class\n",
    "    res['total_data'] = len(X_train) # It will store total no. of documents present\n",
    "\n",
    "    for i in range(len(X_train)):\n",
    "        for j in range(len(X_train[0])):\n",
    "            res[Y_train[i]][j]+=X_train[i][j] #Adding all word count to a class(feature by feature)\n",
    "            res[Y_train[i]]['total_word_count']+=X_train[i][j] # Adding total word count which belong to a particular class\n",
    "        res[Y_train[i]]['total_count_of_a_class']+=1 # Adding 1 to whenever a doc of a particular class is found\n",
    "        \n",
    "    return res"
   ]
  },
  {
   "cell_type": "code",
   "execution_count": 16,
   "metadata": {},
   "outputs": [],
   "source": [
    "dict_ = fit(Xtrain_data,Y_train) #Fitting the data"
   ]
  },
  {
   "cell_type": "code",
   "execution_count": 17,
   "metadata": {},
   "outputs": [],
   "source": [
    "y_pred = predict(dict_,Xtest_data) #predicting the values"
   ]
  },
  {
   "cell_type": "code",
   "execution_count": 18,
   "metadata": {},
   "outputs": [],
   "source": [
    "def score(Y_test,y_pred):\n",
    "    count = 0\n",
    "    for i in range(len(y_pred)):\n",
    "        if(Y_test[i] == y_pred[i]):\n",
    "            count += 1\n",
    "    return count/(len(y_pred))"
   ]
  },
  {
   "cell_type": "code",
   "execution_count": 19,
   "metadata": {},
   "outputs": [
    {
     "name": "stdout",
     "output_type": "stream",
     "text": [
      "0.8666\n",
      "                          precision    recall  f1-score   support\n",
      "\n",
      "             alt.atheism       0.74      0.85      0.79       232\n",
      "           comp.graphics       0.82      0.77      0.80       253\n",
      " comp.os.ms-windows.misc       0.85      0.83      0.84       259\n",
      "comp.sys.ibm.pc.hardware       0.84      0.83      0.84       249\n",
      "   comp.sys.mac.hardware       0.87      0.90      0.88       236\n",
      "          comp.windows.x       0.89      0.91      0.90       281\n",
      "            misc.forsale       0.80      0.89      0.84       253\n",
      "               rec.autos       0.89      0.91      0.90       233\n",
      "         rec.motorcycles       0.94      0.98      0.96       271\n",
      "      rec.sport.baseball       0.98      0.98      0.98       245\n",
      "        rec.sport.hockey       1.00      0.98      0.99       243\n",
      "               sci.crypt       0.95      0.88      0.91       234\n",
      "         sci.electronics       0.80      0.91      0.85       240\n",
      "                 sci.med       0.97      0.91      0.94       257\n",
      "               sci.space       0.94      0.94      0.94       247\n",
      "  soc.religion.christian       0.96      0.99      0.97       236\n",
      "      talk.politics.guns       0.75      0.91      0.82       260\n",
      "   talk.politics.mideast       0.93      0.85      0.89       283\n",
      "      talk.politics.misc       0.70      0.63      0.66       239\n",
      "      talk.religion.misc       0.70      0.48      0.57       249\n",
      "\n",
      "                accuracy                           0.87      5000\n",
      "               macro avg       0.87      0.87      0.86      5000\n",
      "            weighted avg       0.87      0.87      0.86      5000\n",
      "\n"
     ]
    }
   ],
   "source": [
    "score_ = score(Y_test,y_pred) #Accuracy in the predictions\n",
    "print(score_)\n",
    "print(classification_report(Y_test,pred))"
   ]
  },
  {
   "cell_type": "code",
   "execution_count": 20,
   "metadata": {},
   "outputs": [
    {
     "name": "stdout",
     "output_type": "stream",
     "text": [
      "Predicted Score using Sklearn 0.8666\n",
      "Predicted Score by own implementation 0.8666\n"
     ]
    }
   ],
   "source": [
    "print(\"Predicted Score using Sklearn\",end = \" \")\n",
    "print(score_test_sklearn)\n",
    "\n",
    "print(\"Predicted Score by own implementation\",end = \" \")\n",
    "print(score_)"
   ]
  },
  {
   "cell_type": "code",
   "execution_count": null,
   "metadata": {},
   "outputs": [],
   "source": []
  }
 ],
 "metadata": {
  "kernelspec": {
   "display_name": "Python 3",
   "language": "python",
   "name": "python3"
  },
  "language_info": {
   "codemirror_mode": {
    "name": "ipython",
    "version": 3
   },
   "file_extension": ".py",
   "mimetype": "text/x-python",
   "name": "python",
   "nbconvert_exporter": "python",
   "pygments_lexer": "ipython3",
   "version": "3.8.5"
  }
 },
 "nbformat": 4,
 "nbformat_minor": 4
}
